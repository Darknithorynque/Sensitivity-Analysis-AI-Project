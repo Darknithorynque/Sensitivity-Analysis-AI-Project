{
 "cells": [
  {
   "cell_type": "code",
   "execution_count": 1,
   "id": "f772e692",
   "metadata": {},
   "outputs": [
    {
     "ename": "ModuleNotFoundError",
     "evalue": "No module named 'pandas'",
     "output_type": "error",
     "traceback": [
      "\u001b[0;31m---------------------------------------------------------------------------\u001b[0m",
      "\u001b[0;31mModuleNotFoundError\u001b[0m                       Traceback (most recent call last)",
      "Cell \u001b[0;32mIn [1], line 1\u001b[0m\n\u001b[0;32m----> 1\u001b[0m \u001b[39mimport\u001b[39;00m \u001b[39mpandas\u001b[39;00m \u001b[39mas\u001b[39;00m \u001b[39mpnds\u001b[39;00m\n\u001b[1;32m      2\u001b[0m \u001b[39mimport\u001b[39;00m \u001b[39mnumpy\u001b[39;00m \u001b[39mas\u001b[39;00m \u001b[39mnmpy\u001b[39;00m\n\u001b[1;32m      3\u001b[0m \u001b[39mimport\u001b[39;00m \u001b[39mnltk\u001b[39;00m\n",
      "\u001b[0;31mModuleNotFoundError\u001b[0m: No module named 'pandas'"
     ]
    }
   ],
   "source": [
    "import pandas as pnds\n",
    "import numpy as nmpy\n",
    "import nltk\n",
    "import re\n",
    "import matplotlib.pyplot as matplt\n",
    "from sklearn.feature_extraction.text import CountVectorizer\n",
    "from sklearn.ensemble import RandomForestClassifier\n",
    "from sklearn.metrics import roc_auc_score\n",
    "from bs4 import BeautifulSoup\n",
    "from sklearn.model_selection import train_test_split\n",
    "from nltk.corpus import stopwords\n",
    "\n"
   ]
  },
  {
   "cell_type": "code",
   "execution_count": 2,
   "id": "52b4d4d9",
   "metadata": {},
   "outputs": [
    {
     "ename": "NameError",
     "evalue": "name 'pnds' is not defined",
     "output_type": "error",
     "traceback": [
      "\u001b[0;31m---------------------------------------------------------------------------\u001b[0m",
      "\u001b[0;31mNameError\u001b[0m                                 Traceback (most recent call last)",
      "Cell \u001b[0;32mIn [2], line 2\u001b[0m\n\u001b[1;32m      1\u001b[0m \u001b[39m# pandas kütüphanesi yardımıyla veri setlerimizi yüklüyoruz\u001b[39;00m\n\u001b[0;32m----> 2\u001b[0m dataFrame \u001b[39m=\u001b[39m pnds\u001b[39m.\u001b[39mread_csv(\u001b[39m'\u001b[39m\u001b[39mNLPlabeledData.tsv\u001b[39m\u001b[39m'\u001b[39m,  delimiter\u001b[39m=\u001b[39m\u001b[39m\"\u001b[39m\u001b[39m\\t\u001b[39;00m\u001b[39m\"\u001b[39m, quoting\u001b[39m=\u001b[39m\u001b[39m3\u001b[39m)\n",
      "\u001b[0;31mNameError\u001b[0m: name 'pnds' is not defined"
     ]
    }
   ],
   "source": [
    "# pandas kütüphanesi yardımıyla veri setlerimizi yüklüyoruz\n",
    "dataFrame = pnds.read_csv('NLPlabeledData.tsv',  delimiter=\"\\t\", quoting=3)\n",
    "\n"
   ]
  },
  {
   "cell_type": "code",
   "execution_count": 504,
   "id": "d736f9b1",
   "metadata": {},
   "outputs": [
    {
     "data": {
      "text/plain": [
       "25000"
      ]
     },
     "execution_count": 504,
     "metadata": {},
     "output_type": "execute_result"
    }
   ],
   "source": [
    "#veri setimizin uzunluğu\n",
    "len(dataFrame[\"review\"])"
   ]
  },
  {
   "cell_type": "code",
   "execution_count": 505,
   "id": "553cff4f",
   "metadata": {},
   "outputs": [
    {
     "data": {
      "text/html": [
       "<div>\n",
       "<style scoped>\n",
       "    .dataframe tbody tr th:only-of-type {\n",
       "        vertical-align: middle;\n",
       "    }\n",
       "\n",
       "    .dataframe tbody tr th {\n",
       "        vertical-align: top;\n",
       "    }\n",
       "\n",
       "    .dataframe thead th {\n",
       "        text-align: right;\n",
       "    }\n",
       "</style>\n",
       "<table border=\"1\" class=\"dataframe\">\n",
       "  <thead>\n",
       "    <tr style=\"text-align: right;\">\n",
       "      <th></th>\n",
       "      <th>id</th>\n",
       "      <th>sentiment</th>\n",
       "      <th>review</th>\n",
       "    </tr>\n",
       "  </thead>\n",
       "  <tbody>\n",
       "    <tr>\n",
       "      <th>0</th>\n",
       "      <td>\"5814_8\"</td>\n",
       "      <td>1</td>\n",
       "      <td>\"With all this stuff going down at the moment ...</td>\n",
       "    </tr>\n",
       "    <tr>\n",
       "      <th>1</th>\n",
       "      <td>\"2381_9\"</td>\n",
       "      <td>1</td>\n",
       "      <td>\"\\\"The Classic War of the Worlds\\\" by Timothy ...</td>\n",
       "    </tr>\n",
       "    <tr>\n",
       "      <th>2</th>\n",
       "      <td>\"7759_3\"</td>\n",
       "      <td>0</td>\n",
       "      <td>\"The film starts with a manager (Nicholas Bell...</td>\n",
       "    </tr>\n",
       "    <tr>\n",
       "      <th>3</th>\n",
       "      <td>\"3630_4\"</td>\n",
       "      <td>0</td>\n",
       "      <td>\"It must be assumed that those who praised thi...</td>\n",
       "    </tr>\n",
       "    <tr>\n",
       "      <th>4</th>\n",
       "      <td>\"9495_8\"</td>\n",
       "      <td>1</td>\n",
       "      <td>\"Superbly trashy and wondrously unpretentious ...</td>\n",
       "    </tr>\n",
       "    <tr>\n",
       "      <th>5</th>\n",
       "      <td>\"8196_8\"</td>\n",
       "      <td>1</td>\n",
       "      <td>\"I dont know why people think this is such a b...</td>\n",
       "    </tr>\n",
       "    <tr>\n",
       "      <th>6</th>\n",
       "      <td>\"7166_2\"</td>\n",
       "      <td>0</td>\n",
       "      <td>\"This movie could have been very good, but com...</td>\n",
       "    </tr>\n",
       "    <tr>\n",
       "      <th>7</th>\n",
       "      <td>\"10633_1\"</td>\n",
       "      <td>0</td>\n",
       "      <td>\"I watched this video at a friend's house. I'm...</td>\n",
       "    </tr>\n",
       "    <tr>\n",
       "      <th>8</th>\n",
       "      <td>\"319_1\"</td>\n",
       "      <td>0</td>\n",
       "      <td>\"A friend of mine bought this film for £1, and...</td>\n",
       "    </tr>\n",
       "    <tr>\n",
       "      <th>9</th>\n",
       "      <td>\"8713_10\"</td>\n",
       "      <td>1</td>\n",
       "      <td>\"&lt;br /&gt;&lt;br /&gt;This movie is full of references....</td>\n",
       "    </tr>\n",
       "  </tbody>\n",
       "</table>\n",
       "</div>"
      ],
      "text/plain": [
       "          id  sentiment                                             review\n",
       "0   \"5814_8\"          1  \"With all this stuff going down at the moment ...\n",
       "1   \"2381_9\"          1  \"\\\"The Classic War of the Worlds\\\" by Timothy ...\n",
       "2   \"7759_3\"          0  \"The film starts with a manager (Nicholas Bell...\n",
       "3   \"3630_4\"          0  \"It must be assumed that those who praised thi...\n",
       "4   \"9495_8\"          1  \"Superbly trashy and wondrously unpretentious ...\n",
       "5   \"8196_8\"          1  \"I dont know why people think this is such a b...\n",
       "6   \"7166_2\"          0  \"This movie could have been very good, but com...\n",
       "7  \"10633_1\"          0  \"I watched this video at a friend's house. I'm...\n",
       "8    \"319_1\"          0  \"A friend of mine bought this film for £1, and...\n",
       "9  \"8713_10\"          1  \"<br /><br />This movie is full of references...."
      ]
     },
     "execution_count": 505,
     "metadata": {},
     "output_type": "execute_result"
    }
   ],
   "source": [
    "# ilk n verimiz\n",
    "dataFrame.head(10)"
   ]
  },
  {
   "cell_type": "code",
   "execution_count": 506,
   "id": "6e767dca",
   "metadata": {},
   "outputs": [
    {
     "name": "stdout",
     "output_type": "stream",
     "text": [
      "<class 'pandas.core.frame.DataFrame'>\n",
      "RangeIndex: 25000 entries, 0 to 24999\n",
      "Data columns (total 3 columns):\n",
      " #   Column     Non-Null Count  Dtype \n",
      "---  ------     --------------  ----- \n",
      " 0   id         25000 non-null  object\n",
      " 1   sentiment  25000 non-null  int64 \n",
      " 2   review     25000 non-null  object\n",
      "dtypes: int64(1), object(2)\n",
      "memory usage: 586.1+ KB\n"
     ]
    }
   ],
   "source": [
    "dataFrame.info()"
   ]
  },
  {
   "cell_type": "markdown",
   "id": "5748918b",
   "metadata": {},
   "source": [
    "## Fazlalıkları temizleme"
   ]
  },
  {
   "cell_type": "code",
   "execution_count": 507,
   "id": "52044274",
   "metadata": {},
   "outputs": [
    {
     "data": {
      "text/plain": [
       "'\"Ulli Lommel\\'s 1980 film \\'The Boogey Man\\' is no classic, but it\\'s an above average low budget chiller that\\'s worth a look. The sequel, 1983s \\'Boogey Man II\\' is ultimately a waste of time, but at the very least it\\'s an entertaining one if not taken the least bit seriously. Now II left the door open for another sequel, and I for one wouldn\\'t have minded seeing at least one more. One day while I was browsing though the videos at a store in the mall I came across a film entitled \\'Return of the Boogey Man.\\' When I found out it was a sequel to the earlier films I was happy to shell out a few bucks for it...I should have known better. Though the opening title is \\'Boogey Man 3,\\' this is no sequel to those two far superior films I named above. Well, not totally anyway.<br /><br />Pros: Ha! That\\'s a laugh. Is there anything good about this hunk of cow dung? Let\\'s see...it has footage from \\'The Boogey Man\\' and, um...it\\'s mercifully short. Yeah, that\\'s about it.<br /><br />Cons: Where to start? Decisions, decisions. First of all, this movie is a total bore. It goes from one scene to the next without anything remotely interesting or scary happening. The acting is stiff at best. The \\\\\"actors\\\\\" are most likely friends of the director who had no acting experience whatsoever before, and probably none since. The plot is nonexistent and script shoddily written. The direction is just plain awful. The director tries to make the film look all artsy fartsy by making the camera move around, lights flicker, and with filters, but it adds nothing. The music is dull and hard to hear in parts. Ties to the original are botched. Suzanna Love\\'s character was named Lacey, not Natalie! And the events depicted in the beginning of the original did not take place in 1978. Also, if this has a 3 in the title, why is there no mention of what happened in II? Finally, this adds nothing new or interesting to either the series or the genre.<br /><br />Final thoughts: The people behind this waste of time and money should be ashamed of themselves. It\\'s one thing if that had been an original film that was the director\\'s first and sucked. But instead it\\'s supposed to be a sequel to film that is no masterpiece, but is damn sure far more interesting and entertaining than this. If there ever is another sequel, which I doubt it, then it needs to forget this one ever happened and be handled either by Lommel himself or someone who has at least some idea of how to make a decent horror film.<br /><br />My rating: 1/5\"'"
      ]
     },
     "execution_count": 507,
     "metadata": {},
     "output_type": "execute_result"
    }
   ],
   "source": [
    "# n. veri setimiz\n",
    "example_review= dataFrame.review[17]\n",
    "example_review"
   ]
  },
  {
   "cell_type": "code",
   "execution_count": 508,
   "id": "e5165bc8",
   "metadata": {},
   "outputs": [
    {
     "data": {
      "text/plain": [
       "'\"ulli lommel\\'s 1980 film \\'the boogey man\\' is no classic, but it\\'s an above average low budget chiller that\\'s worth a look. the sequel, 1983s \\'boogey man ii\\' is ultimately a waste of time, but at the very least it\\'s an entertaining one if not taken the least bit seriously. now ii left the door open for another sequel, and i for one wouldn\\'t have minded seeing at least one more. one day while i was browsing though the videos at a store in the mall i came across a film entitled \\'return of the boogey man.\\' when i found out it was a sequel to the earlier films i was happy to shell out a few bucks for it...i should have known better. though the opening title is \\'boogey man 3,\\' this is no sequel to those two far superior films i named above. well, not totally anyway.<br /><br />pros: ha! that\\'s a laugh. is there anything good about this hunk of cow dung? let\\'s see...it has footage from \\'the boogey man\\' and, um...it\\'s mercifully short. yeah, that\\'s about it.<br /><br />cons: where to start? decisions, decisions. first of all, this movie is a total bore. it goes from one scene to the next without anything remotely interesting or scary happening. the acting is stiff at best. the \\\\\"actors\\\\\" are most likely friends of the director who had no acting experience whatsoever before, and probably none since. the plot is nonexistent and script shoddily written. the direction is just plain awful. the director tries to make the film look all artsy fartsy by making the camera move around, lights flicker, and with filters, but it adds nothing. the music is dull and hard to hear in parts. ties to the original are botched. suzanna love\\'s character was named lacey, not natalie! and the events depicted in the beginning of the original did not take place in 1978. also, if this has a 3 in the title, why is there no mention of what happened in ii? finally, this adds nothing new or interesting to either the series or the genre.<br /><br />final thoughts: the people behind this waste of time and money should be ashamed of themselves. it\\'s one thing if that had been an original film that was the director\\'s first and sucked. but instead it\\'s supposed to be a sequel to film that is no masterpiece, but is damn sure far more interesting and entertaining than this. if there ever is another sequel, which i doubt it, then it needs to forget this one ever happened and be handled either by lommel himself or someone who has at least some idea of how to make a decent horror film.<br /><br />my rating: 1/5\"'"
      ]
     },
     "execution_count": 508,
     "metadata": {},
     "output_type": "execute_result"
    }
   ],
   "source": [
    "# küçük harfe dönüştürüyoruz(algılama karmaşıklığını önlemek için)\n",
    "example_review = example_review.lower()\n",
    "example_review"
   ]
  },
  {
   "cell_type": "code",
   "execution_count": 509,
   "id": "68d67c2b",
   "metadata": {},
   "outputs": [
    {
     "data": {
      "text/plain": [
       "'\"ulli lommel\\'s 1980 film \\'the boogey man\\' is no classic, but it\\'s an above average low budget chiller that\\'s worth a look. the sequel, 1983s \\'boogey man ii\\' is ultimately a waste of time, but at the very least it\\'s an entertaining one if not taken the least bit seriously. now ii left the door open for another sequel, and i for one wouldn\\'t have minded seeing at least one more. one day while i was browsing though the videos at a store in the mall i came across a film entitled \\'return of the boogey man.\\' when i found out it was a sequel to the earlier films i was happy to shell out a few bucks for it...i should have known better. though the opening title is \\'boogey man 3,\\' this is no sequel to those two far superior films i named above. well, not totally anyway.pros: ha! that\\'s a laugh. is there anything good about this hunk of cow dung? let\\'s see...it has footage from \\'the boogey man\\' and, um...it\\'s mercifully short. yeah, that\\'s about it.cons: where to start? decisions, decisions. first of all, this movie is a total bore. it goes from one scene to the next without anything remotely interesting or scary happening. the acting is stiff at best. the \\\\\"actors\\\\\" are most likely friends of the director who had no acting experience whatsoever before, and probably none since. the plot is nonexistent and script shoddily written. the direction is just plain awful. the director tries to make the film look all artsy fartsy by making the camera move around, lights flicker, and with filters, but it adds nothing. the music is dull and hard to hear in parts. ties to the original are botched. suzanna love\\'s character was named lacey, not natalie! and the events depicted in the beginning of the original did not take place in 1978. also, if this has a 3 in the title, why is there no mention of what happened in ii? finally, this adds nothing new or interesting to either the series or the genre.final thoughts: the people behind this waste of time and money should be ashamed of themselves. it\\'s one thing if that had been an original film that was the director\\'s first and sucked. but instead it\\'s supposed to be a sequel to film that is no masterpiece, but is damn sure far more interesting and entertaining than this. if there ever is another sequel, which i doubt it, then it needs to forget this one ever happened and be handled either by lommel himself or someone who has at least some idea of how to make a decent horror film.my rating: 1/5\"'"
      ]
     },
     "execution_count": 509,
     "metadata": {},
     "output_type": "execute_result"
    }
   ],
   "source": [
    "# BeatifulSoup modülü yardımıyla html taglerini temizliyoruz\n",
    "example_review = BeautifulSoup(example_review).get_text()\n",
    "example_review"
   ]
  },
  {
   "cell_type": "code",
   "execution_count": 510,
   "id": "7a547704",
   "metadata": {},
   "outputs": [
    {
     "data": {
      "text/plain": [
       "' ulli lommel s      film  the boogey man  is no classic  but it s an above average low budget chiller that s worth a look  the sequel      s  boogey man ii  is ultimately a waste of time  but at the very least it s an entertaining one if not taken the least bit seriously  now ii left the door open for another sequel  and i for one wouldn t have minded seeing at least one more  one day while i was browsing though the videos at a store in the mall i came across a film entitled  return of the boogey man   when i found out it was a sequel to the earlier films i was happy to shell out a few bucks for it   i should have known better  though the opening title is  boogey man     this is no sequel to those two far superior films i named above  well  not totally anyway pros  ha  that s a laugh  is there anything good about this hunk of cow dung  let s see   it has footage from  the boogey man  and  um   it s mercifully short  yeah  that s about it cons  where to start  decisions  decisions  first of all  this movie is a total bore  it goes from one scene to the next without anything remotely interesting or scary happening  the acting is stiff at best  the   actors   are most likely friends of the director who had no acting experience whatsoever before  and probably none since  the plot is nonexistent and script shoddily written  the direction is just plain awful  the director tries to make the film look all artsy fartsy by making the camera move around  lights flicker  and with filters  but it adds nothing  the music is dull and hard to hear in parts  ties to the original are botched  suzanna love s character was named lacey  not natalie  and the events depicted in the beginning of the original did not take place in       also  if this has a   in the title  why is there no mention of what happened in ii  finally  this adds nothing new or interesting to either the series or the genre final thoughts  the people behind this waste of time and money should be ashamed of themselves  it s one thing if that had been an original film that was the director s first and sucked  but instead it s supposed to be a sequel to film that is no masterpiece  but is damn sure far more interesting and entertaining than this  if there ever is another sequel  which i doubt it  then it needs to forget this one ever happened and be handled either by lommel himself or someone who has at least some idea of how to make a decent horror film my rating      '"
      ]
     },
     "execution_count": 510,
     "metadata": {},
     "output_type": "execute_result"
    }
   ],
   "source": [
    "# regex modülü yardımıyla harf olmayan karakterleri temizliyoruz\n",
    "example_review = re.sub(\"[^A-Za-z]\",' ',example_review)\n",
    "example_review"
   ]
  },
  {
   "cell_type": "code",
   "execution_count": 511,
   "id": "9ddcadfa",
   "metadata": {},
   "outputs": [
    {
     "name": "stderr",
     "output_type": "stream",
     "text": [
      "[nltk_data] Downloading package stopwords to\n",
      "[nltk_data]     /Users/birkanardamalkoc/nltk_data...\n",
      "[nltk_data]   Package stopwords is already up-to-date!\n"
     ]
    },
    {
     "data": {
      "text/plain": [
       "True"
      ]
     },
     "execution_count": 511,
     "metadata": {},
     "output_type": "execute_result"
    }
   ],
   "source": [
    "# nltk vasıtasıyla stopwords indiriyoruz \n",
    "nltk.download('stopwords')"
   ]
  },
  {
   "cell_type": "code",
   "execution_count": 512,
   "id": "e6f3c5ce",
   "metadata": {},
   "outputs": [
    {
     "data": {
      "text/plain": [
       "['ulli',\n",
       " 'lommel',\n",
       " 's',\n",
       " 'film',\n",
       " 'the',\n",
       " 'boogey',\n",
       " 'man',\n",
       " 'is',\n",
       " 'no',\n",
       " 'classic',\n",
       " 'but',\n",
       " 'it',\n",
       " 's',\n",
       " 'an',\n",
       " 'above',\n",
       " 'average',\n",
       " 'low',\n",
       " 'budget',\n",
       " 'chiller',\n",
       " 'that',\n",
       " 's',\n",
       " 'worth',\n",
       " 'a',\n",
       " 'look',\n",
       " 'the',\n",
       " 'sequel',\n",
       " 's',\n",
       " 'boogey',\n",
       " 'man',\n",
       " 'ii',\n",
       " 'is',\n",
       " 'ultimately',\n",
       " 'a',\n",
       " 'waste',\n",
       " 'of',\n",
       " 'time',\n",
       " 'but',\n",
       " 'at',\n",
       " 'the',\n",
       " 'very',\n",
       " 'least',\n",
       " 'it',\n",
       " 's',\n",
       " 'an',\n",
       " 'entertaining',\n",
       " 'one',\n",
       " 'if',\n",
       " 'not',\n",
       " 'taken',\n",
       " 'the',\n",
       " 'least',\n",
       " 'bit',\n",
       " 'seriously',\n",
       " 'now',\n",
       " 'ii',\n",
       " 'left',\n",
       " 'the',\n",
       " 'door',\n",
       " 'open',\n",
       " 'for',\n",
       " 'another',\n",
       " 'sequel',\n",
       " 'and',\n",
       " 'i',\n",
       " 'for',\n",
       " 'one',\n",
       " 'wouldn',\n",
       " 't',\n",
       " 'have',\n",
       " 'minded',\n",
       " 'seeing',\n",
       " 'at',\n",
       " 'least',\n",
       " 'one',\n",
       " 'more',\n",
       " 'one',\n",
       " 'day',\n",
       " 'while',\n",
       " 'i',\n",
       " 'was',\n",
       " 'browsing',\n",
       " 'though',\n",
       " 'the',\n",
       " 'videos',\n",
       " 'at',\n",
       " 'a',\n",
       " 'store',\n",
       " 'in',\n",
       " 'the',\n",
       " 'mall',\n",
       " 'i',\n",
       " 'came',\n",
       " 'across',\n",
       " 'a',\n",
       " 'film',\n",
       " 'entitled',\n",
       " 'return',\n",
       " 'of',\n",
       " 'the',\n",
       " 'boogey',\n",
       " 'man',\n",
       " 'when',\n",
       " 'i',\n",
       " 'found',\n",
       " 'out',\n",
       " 'it',\n",
       " 'was',\n",
       " 'a',\n",
       " 'sequel',\n",
       " 'to',\n",
       " 'the',\n",
       " 'earlier',\n",
       " 'films',\n",
       " 'i',\n",
       " 'was',\n",
       " 'happy',\n",
       " 'to',\n",
       " 'shell',\n",
       " 'out',\n",
       " 'a',\n",
       " 'few',\n",
       " 'bucks',\n",
       " 'for',\n",
       " 'it',\n",
       " 'i',\n",
       " 'should',\n",
       " 'have',\n",
       " 'known',\n",
       " 'better',\n",
       " 'though',\n",
       " 'the',\n",
       " 'opening',\n",
       " 'title',\n",
       " 'is',\n",
       " 'boogey',\n",
       " 'man',\n",
       " 'this',\n",
       " 'is',\n",
       " 'no',\n",
       " 'sequel',\n",
       " 'to',\n",
       " 'those',\n",
       " 'two',\n",
       " 'far',\n",
       " 'superior',\n",
       " 'films',\n",
       " 'i',\n",
       " 'named',\n",
       " 'above',\n",
       " 'well',\n",
       " 'not',\n",
       " 'totally',\n",
       " 'anyway',\n",
       " 'pros',\n",
       " 'ha',\n",
       " 'that',\n",
       " 's',\n",
       " 'a',\n",
       " 'laugh',\n",
       " 'is',\n",
       " 'there',\n",
       " 'anything',\n",
       " 'good',\n",
       " 'about',\n",
       " 'this',\n",
       " 'hunk',\n",
       " 'of',\n",
       " 'cow',\n",
       " 'dung',\n",
       " 'let',\n",
       " 's',\n",
       " 'see',\n",
       " 'it',\n",
       " 'has',\n",
       " 'footage',\n",
       " 'from',\n",
       " 'the',\n",
       " 'boogey',\n",
       " 'man',\n",
       " 'and',\n",
       " 'um',\n",
       " 'it',\n",
       " 's',\n",
       " 'mercifully',\n",
       " 'short',\n",
       " 'yeah',\n",
       " 'that',\n",
       " 's',\n",
       " 'about',\n",
       " 'it',\n",
       " 'cons',\n",
       " 'where',\n",
       " 'to',\n",
       " 'start',\n",
       " 'decisions',\n",
       " 'decisions',\n",
       " 'first',\n",
       " 'of',\n",
       " 'all',\n",
       " 'this',\n",
       " 'movie',\n",
       " 'is',\n",
       " 'a',\n",
       " 'total',\n",
       " 'bore',\n",
       " 'it',\n",
       " 'goes',\n",
       " 'from',\n",
       " 'one',\n",
       " 'scene',\n",
       " 'to',\n",
       " 'the',\n",
       " 'next',\n",
       " 'without',\n",
       " 'anything',\n",
       " 'remotely',\n",
       " 'interesting',\n",
       " 'or',\n",
       " 'scary',\n",
       " 'happening',\n",
       " 'the',\n",
       " 'acting',\n",
       " 'is',\n",
       " 'stiff',\n",
       " 'at',\n",
       " 'best',\n",
       " 'the',\n",
       " 'actors',\n",
       " 'are',\n",
       " 'most',\n",
       " 'likely',\n",
       " 'friends',\n",
       " 'of',\n",
       " 'the',\n",
       " 'director',\n",
       " 'who',\n",
       " 'had',\n",
       " 'no',\n",
       " 'acting',\n",
       " 'experience',\n",
       " 'whatsoever',\n",
       " 'before',\n",
       " 'and',\n",
       " 'probably',\n",
       " 'none',\n",
       " 'since',\n",
       " 'the',\n",
       " 'plot',\n",
       " 'is',\n",
       " 'nonexistent',\n",
       " 'and',\n",
       " 'script',\n",
       " 'shoddily',\n",
       " 'written',\n",
       " 'the',\n",
       " 'direction',\n",
       " 'is',\n",
       " 'just',\n",
       " 'plain',\n",
       " 'awful',\n",
       " 'the',\n",
       " 'director',\n",
       " 'tries',\n",
       " 'to',\n",
       " 'make',\n",
       " 'the',\n",
       " 'film',\n",
       " 'look',\n",
       " 'all',\n",
       " 'artsy',\n",
       " 'fartsy',\n",
       " 'by',\n",
       " 'making',\n",
       " 'the',\n",
       " 'camera',\n",
       " 'move',\n",
       " 'around',\n",
       " 'lights',\n",
       " 'flicker',\n",
       " 'and',\n",
       " 'with',\n",
       " 'filters',\n",
       " 'but',\n",
       " 'it',\n",
       " 'adds',\n",
       " 'nothing',\n",
       " 'the',\n",
       " 'music',\n",
       " 'is',\n",
       " 'dull',\n",
       " 'and',\n",
       " 'hard',\n",
       " 'to',\n",
       " 'hear',\n",
       " 'in',\n",
       " 'parts',\n",
       " 'ties',\n",
       " 'to',\n",
       " 'the',\n",
       " 'original',\n",
       " 'are',\n",
       " 'botched',\n",
       " 'suzanna',\n",
       " 'love',\n",
       " 's',\n",
       " 'character',\n",
       " 'was',\n",
       " 'named',\n",
       " 'lacey',\n",
       " 'not',\n",
       " 'natalie',\n",
       " 'and',\n",
       " 'the',\n",
       " 'events',\n",
       " 'depicted',\n",
       " 'in',\n",
       " 'the',\n",
       " 'beginning',\n",
       " 'of',\n",
       " 'the',\n",
       " 'original',\n",
       " 'did',\n",
       " 'not',\n",
       " 'take',\n",
       " 'place',\n",
       " 'in',\n",
       " 'also',\n",
       " 'if',\n",
       " 'this',\n",
       " 'has',\n",
       " 'a',\n",
       " 'in',\n",
       " 'the',\n",
       " 'title',\n",
       " 'why',\n",
       " 'is',\n",
       " 'there',\n",
       " 'no',\n",
       " 'mention',\n",
       " 'of',\n",
       " 'what',\n",
       " 'happened',\n",
       " 'in',\n",
       " 'ii',\n",
       " 'finally',\n",
       " 'this',\n",
       " 'adds',\n",
       " 'nothing',\n",
       " 'new',\n",
       " 'or',\n",
       " 'interesting',\n",
       " 'to',\n",
       " 'either',\n",
       " 'the',\n",
       " 'series',\n",
       " 'or',\n",
       " 'the',\n",
       " 'genre',\n",
       " 'final',\n",
       " 'thoughts',\n",
       " 'the',\n",
       " 'people',\n",
       " 'behind',\n",
       " 'this',\n",
       " 'waste',\n",
       " 'of',\n",
       " 'time',\n",
       " 'and',\n",
       " 'money',\n",
       " 'should',\n",
       " 'be',\n",
       " 'ashamed',\n",
       " 'of',\n",
       " 'themselves',\n",
       " 'it',\n",
       " 's',\n",
       " 'one',\n",
       " 'thing',\n",
       " 'if',\n",
       " 'that',\n",
       " 'had',\n",
       " 'been',\n",
       " 'an',\n",
       " 'original',\n",
       " 'film',\n",
       " 'that',\n",
       " 'was',\n",
       " 'the',\n",
       " 'director',\n",
       " 's',\n",
       " 'first',\n",
       " 'and',\n",
       " 'sucked',\n",
       " 'but',\n",
       " 'instead',\n",
       " 'it',\n",
       " 's',\n",
       " 'supposed',\n",
       " 'to',\n",
       " 'be',\n",
       " 'a',\n",
       " 'sequel',\n",
       " 'to',\n",
       " 'film',\n",
       " 'that',\n",
       " 'is',\n",
       " 'no',\n",
       " 'masterpiece',\n",
       " 'but',\n",
       " 'is',\n",
       " 'damn',\n",
       " 'sure',\n",
       " 'far',\n",
       " 'more',\n",
       " 'interesting',\n",
       " 'and',\n",
       " 'entertaining',\n",
       " 'than',\n",
       " 'this',\n",
       " 'if',\n",
       " 'there',\n",
       " 'ever',\n",
       " 'is',\n",
       " 'another',\n",
       " 'sequel',\n",
       " 'which',\n",
       " 'i',\n",
       " 'doubt',\n",
       " 'it',\n",
       " 'then',\n",
       " 'it',\n",
       " 'needs',\n",
       " 'to',\n",
       " 'forget',\n",
       " 'this',\n",
       " 'one',\n",
       " 'ever',\n",
       " 'happened',\n",
       " 'and',\n",
       " 'be',\n",
       " 'handled',\n",
       " 'either',\n",
       " 'by',\n",
       " 'lommel',\n",
       " 'himself',\n",
       " 'or',\n",
       " 'someone',\n",
       " 'who',\n",
       " 'has',\n",
       " 'at',\n",
       " 'least',\n",
       " 'some',\n",
       " 'idea',\n",
       " 'of',\n",
       " 'how',\n",
       " 'to',\n",
       " 'make',\n",
       " 'a',\n",
       " 'decent',\n",
       " 'horror',\n",
       " 'film',\n",
       " 'my',\n",
       " 'rating']"
      ]
     },
     "execution_count": 512,
     "metadata": {},
     "output_type": "execute_result"
    }
   ],
   "source": [
    "# stopwords lerden kurtulmak için split ile kelimeleri bölüyoruz ve listeye dönüştürüyoruz\n",
    "example_review = example_review.split()\n",
    "example_review"
   ]
  },
  {
   "cell_type": "code",
   "execution_count": 513,
   "id": "d729b143",
   "metadata": {},
   "outputs": [
    {
     "data": {
      "text/plain": [
       "463"
      ]
     },
     "execution_count": 513,
     "metadata": {},
     "output_type": "execute_result"
    }
   ],
   "source": [
    "len(example_review)"
   ]
  },
  {
   "cell_type": "code",
   "execution_count": 514,
   "id": "4a9a90aa",
   "metadata": {},
   "outputs": [
    {
     "data": {
      "text/plain": [
       "['ulli',\n",
       " 'lommel',\n",
       " 'film',\n",
       " 'boogey',\n",
       " 'man',\n",
       " 'classic',\n",
       " 'average',\n",
       " 'low',\n",
       " 'budget',\n",
       " 'chiller',\n",
       " 'worth',\n",
       " 'look',\n",
       " 'sequel',\n",
       " 'boogey',\n",
       " 'man',\n",
       " 'ii',\n",
       " 'ultimately',\n",
       " 'waste',\n",
       " 'time',\n",
       " 'least',\n",
       " 'entertaining',\n",
       " 'one',\n",
       " 'taken',\n",
       " 'least',\n",
       " 'bit',\n",
       " 'seriously',\n",
       " 'ii',\n",
       " 'left',\n",
       " 'door',\n",
       " 'open',\n",
       " 'another',\n",
       " 'sequel',\n",
       " 'one',\n",
       " 'minded',\n",
       " 'seeing',\n",
       " 'least',\n",
       " 'one',\n",
       " 'one',\n",
       " 'day',\n",
       " 'browsing',\n",
       " 'though',\n",
       " 'videos',\n",
       " 'store',\n",
       " 'mall',\n",
       " 'came',\n",
       " 'across',\n",
       " 'film',\n",
       " 'entitled',\n",
       " 'return',\n",
       " 'boogey',\n",
       " 'man',\n",
       " 'found',\n",
       " 'sequel',\n",
       " 'earlier',\n",
       " 'films',\n",
       " 'happy',\n",
       " 'shell',\n",
       " 'bucks',\n",
       " 'known',\n",
       " 'better',\n",
       " 'though',\n",
       " 'opening',\n",
       " 'title',\n",
       " 'boogey',\n",
       " 'man',\n",
       " 'sequel',\n",
       " 'two',\n",
       " 'far',\n",
       " 'superior',\n",
       " 'films',\n",
       " 'named',\n",
       " 'well',\n",
       " 'totally',\n",
       " 'anyway',\n",
       " 'pros',\n",
       " 'ha',\n",
       " 'laugh',\n",
       " 'anything',\n",
       " 'good',\n",
       " 'hunk',\n",
       " 'cow',\n",
       " 'dung',\n",
       " 'let',\n",
       " 'see',\n",
       " 'footage',\n",
       " 'boogey',\n",
       " 'man',\n",
       " 'um',\n",
       " 'mercifully',\n",
       " 'short',\n",
       " 'yeah',\n",
       " 'cons',\n",
       " 'start',\n",
       " 'decisions',\n",
       " 'decisions',\n",
       " 'first',\n",
       " 'movie',\n",
       " 'total',\n",
       " 'bore',\n",
       " 'goes',\n",
       " 'one',\n",
       " 'scene',\n",
       " 'next',\n",
       " 'without',\n",
       " 'anything',\n",
       " 'remotely',\n",
       " 'interesting',\n",
       " 'scary',\n",
       " 'happening',\n",
       " 'acting',\n",
       " 'stiff',\n",
       " 'best',\n",
       " 'actors',\n",
       " 'likely',\n",
       " 'friends',\n",
       " 'director',\n",
       " 'acting',\n",
       " 'experience',\n",
       " 'whatsoever',\n",
       " 'probably',\n",
       " 'none',\n",
       " 'since',\n",
       " 'plot',\n",
       " 'nonexistent',\n",
       " 'script',\n",
       " 'shoddily',\n",
       " 'written',\n",
       " 'direction',\n",
       " 'plain',\n",
       " 'awful',\n",
       " 'director',\n",
       " 'tries',\n",
       " 'make',\n",
       " 'film',\n",
       " 'look',\n",
       " 'artsy',\n",
       " 'fartsy',\n",
       " 'making',\n",
       " 'camera',\n",
       " 'move',\n",
       " 'around',\n",
       " 'lights',\n",
       " 'flicker',\n",
       " 'filters',\n",
       " 'adds',\n",
       " 'nothing',\n",
       " 'music',\n",
       " 'dull',\n",
       " 'hard',\n",
       " 'hear',\n",
       " 'parts',\n",
       " 'ties',\n",
       " 'original',\n",
       " 'botched',\n",
       " 'suzanna',\n",
       " 'love',\n",
       " 'character',\n",
       " 'named',\n",
       " 'lacey',\n",
       " 'natalie',\n",
       " 'events',\n",
       " 'depicted',\n",
       " 'beginning',\n",
       " 'original',\n",
       " 'take',\n",
       " 'place',\n",
       " 'also',\n",
       " 'title',\n",
       " 'mention',\n",
       " 'happened',\n",
       " 'ii',\n",
       " 'finally',\n",
       " 'adds',\n",
       " 'nothing',\n",
       " 'new',\n",
       " 'interesting',\n",
       " 'either',\n",
       " 'series',\n",
       " 'genre',\n",
       " 'final',\n",
       " 'thoughts',\n",
       " 'people',\n",
       " 'behind',\n",
       " 'waste',\n",
       " 'time',\n",
       " 'money',\n",
       " 'ashamed',\n",
       " 'one',\n",
       " 'thing',\n",
       " 'original',\n",
       " 'film',\n",
       " 'director',\n",
       " 'first',\n",
       " 'sucked',\n",
       " 'instead',\n",
       " 'supposed',\n",
       " 'sequel',\n",
       " 'film',\n",
       " 'masterpiece',\n",
       " 'damn',\n",
       " 'sure',\n",
       " 'far',\n",
       " 'interesting',\n",
       " 'entertaining',\n",
       " 'ever',\n",
       " 'another',\n",
       " 'sequel',\n",
       " 'doubt',\n",
       " 'needs',\n",
       " 'forget',\n",
       " 'one',\n",
       " 'ever',\n",
       " 'happened',\n",
       " 'handled',\n",
       " 'either',\n",
       " 'lommel',\n",
       " 'someone',\n",
       " 'least',\n",
       " 'idea',\n",
       " 'make',\n",
       " 'decent',\n",
       " 'horror',\n",
       " 'film',\n",
       " 'rating']"
      ]
     },
     "execution_count": 514,
     "metadata": {},
     "output_type": "execute_result"
    }
   ],
   "source": [
    "# örnek verimiz stopwords lerden arındıktan sonra\n",
    "stop_words = set(stopwords.words(\"english\"))                      # conversion into set for fast searching\n",
    "example_review = [w for w in example_review if w not in stop_words]               \n",
    "example_review\n"
   ]
  },
  {
   "cell_type": "code",
   "execution_count": 515,
   "id": "d57027ff",
   "metadata": {},
   "outputs": [
    {
     "data": {
      "text/plain": [
       "224"
      ]
     },
     "execution_count": 515,
     "metadata": {},
     "output_type": "execute_result"
    }
   ],
   "source": [
    "len(example_review)"
   ]
  },
  {
   "cell_type": "code",
   "execution_count": 516,
   "id": "49b90371",
   "metadata": {},
   "outputs": [],
   "source": [
    "#şimdi bu gerçeklediğimiz işlemi bütün veriler için yapacağız"
   ]
  },
  {
   "cell_type": "code",
   "execution_count": 517,
   "id": "66ec33e6",
   "metadata": {},
   "outputs": [],
   "source": [
    "def process(review):\n",
    "    # html taglerinden arınıyoruz\n",
    "    review = BeautifulSoup(review).get_text()\n",
    "    # sayılar,noktalama işaretleri..\n",
    "    review = re.sub(\"[^A-Za-z]\",' ',review)\n",
    "    # küçük harf, listeleme\n",
    "    review = review.lower()\n",
    "    review = review.split()\n",
    "    # stopwords\n",
    "    stop_words = set(stopwords.words(\"english\"))                      \n",
    "    review = [w for w in review if w not in stop_words]               \n",
    "    # parçalanmış paragrafları boşluklarından(\" \") birleştiriyoruz\n",
    "    return(\" \".join(review))"
   ]
  },
  {
   "cell_type": "code",
   "execution_count": 518,
   "id": "594912eb",
   "metadata": {},
   "outputs": [
    {
     "name": "stderr",
     "output_type": "stream",
     "text": [
      "/Users/birkanardamalkoc/opt/anaconda3/envs/tf/lib/python3.9/site-packages/bs4/__init__.py:435: MarkupResemblesLocatorWarning: The input looks more like a filename than markup. You may want to open this file and pass the filehandle into Beautiful Soup.\n",
      "  warnings.warn(\n"
     ]
    },
    {
     "name": "stdout",
     "output_type": "stream",
     "text": [
      "Taranan işlem sayısı = 500\n",
      "Taranan işlem sayısı = 1000\n",
      "Taranan işlem sayısı = 1500\n",
      "Taranan işlem sayısı = 2000\n",
      "Taranan işlem sayısı = 2500\n",
      "Taranan işlem sayısı = 3000\n",
      "Taranan işlem sayısı = 3500\n",
      "Taranan işlem sayısı = 4000\n",
      "Taranan işlem sayısı = 4500\n",
      "Taranan işlem sayısı = 5000\n",
      "Taranan işlem sayısı = 5500\n",
      "Taranan işlem sayısı = 6000\n",
      "Taranan işlem sayısı = 6500\n",
      "Taranan işlem sayısı = 7000\n",
      "Taranan işlem sayısı = 7500\n",
      "Taranan işlem sayısı = 8000\n",
      "Taranan işlem sayısı = 8500\n",
      "Taranan işlem sayısı = 9000\n",
      "Taranan işlem sayısı = 9500\n",
      "Taranan işlem sayısı = 10000\n",
      "Taranan işlem sayısı = 10500\n",
      "Taranan işlem sayısı = 11000\n",
      "Taranan işlem sayısı = 11500\n",
      "Taranan işlem sayısı = 12000\n",
      "Taranan işlem sayısı = 12500\n",
      "Taranan işlem sayısı = 13000\n",
      "Taranan işlem sayısı = 13500\n",
      "Taranan işlem sayısı = 14000\n",
      "Taranan işlem sayısı = 14500\n",
      "Taranan işlem sayısı = 15000\n",
      "Taranan işlem sayısı = 15500\n",
      "Taranan işlem sayısı = 16000\n",
      "Taranan işlem sayısı = 16500\n",
      "Taranan işlem sayısı = 17000\n",
      "Taranan işlem sayısı = 17500\n",
      "Taranan işlem sayısı = 18000\n",
      "Taranan işlem sayısı = 18500\n",
      "Taranan işlem sayısı = 19000\n",
      "Taranan işlem sayısı = 19500\n",
      "Taranan işlem sayısı = 20000\n",
      "Taranan işlem sayısı = 20500\n",
      "Taranan işlem sayısı = 21000\n",
      "Taranan işlem sayısı = 21500\n",
      "Taranan işlem sayısı = 22000\n",
      "Taranan işlem sayısı = 22500\n",
      "Taranan işlem sayısı = 23000\n",
      "Taranan işlem sayısı = 23500\n",
      "Taranan işlem sayısı = 24000\n",
      "Taranan işlem sayısı = 24500\n",
      "Taranan işlem sayısı = 25000\n"
     ]
    }
   ],
   "source": [
    "# training datamızı yukardaki fonksiyon yardımıyla temizliyoruz: \n",
    "# her 1000 review sonrası bir satır yazdırarak review işleminin durumunu görüyoruz..\n",
    "\n",
    "train_x_tum = []\n",
    "for r in range(len(dataFrame[\"review\"])):        \n",
    "    if (r+1)%500 == 0:        \n",
    "        print(\"Taranan işlem sayısı =\", r+1)\n",
    "    train_x_tum.append(process(dataFrame[\"review\"][r]))"
   ]
  },
  {
   "cell_type": "markdown",
   "id": "b7d2a1c0",
   "metadata": {},
   "source": [
    "### Train, test split..."
   ]
  },
  {
   "cell_type": "code",
   "execution_count": 519,
   "id": "0d340b40",
   "metadata": {},
   "outputs": [],
   "source": [
    "x = train_x_tum\n",
    "y = nmpy.array(dataFrame[\"sentiment\"])\n",
    "\n",
    "# train test split\n",
    "train_x, test_x, y_train, y_test = train_test_split(x,y, test_size = 0.1)\n"
   ]
  },
  {
   "cell_type": "markdown",
   "id": "590370e4",
   "metadata": {},
   "source": [
    "### Bag of Words\n",
    "\n",
    "Verilerimizi temizledik şimdi yapay zekanın çalışması için bu metin bag of words matrisine çeviriyoruz. İşte bu amaçla sklearn içinde bulunan CountVectorizer modülünü kullanıyoruz."
   ]
  },
  {
   "cell_type": "code",
   "execution_count": 520,
   "id": "cb5e8c17",
   "metadata": {},
   "outputs": [],
   "source": [
    "# sklearn içinde bulunan countvectorizer fonksiyonunu kullanarak max 8500 kelimelik bag of words oluşturuyoruz...\n",
    "vectorizer = CountVectorizer( max_features = 8500 )\n",
    "\n",
    "# train verilerimizi feature vektöre matrisine çeviriyoruz\n",
    "train_x = vectorizer.fit_transform(train_x)\n",
    "\n"
   ]
  },
  {
   "cell_type": "code",
   "execution_count": 521,
   "id": "6e9925e2",
   "metadata": {},
   "outputs": [
    {
     "data": {
      "text/plain": [
       "<22500x8500 sparse matrix of type '<class 'numpy.int64'>'\n",
       "\twith 1924694 stored elements in Compressed Sparse Row format>"
      ]
     },
     "execution_count": 521,
     "metadata": {},
     "output_type": "execute_result"
    }
   ],
   "source": [
    "train_x"
   ]
  },
  {
   "cell_type": "code",
   "execution_count": 522,
   "id": "a05067bc",
   "metadata": {},
   "outputs": [],
   "source": [
    "# array e dönüştürüyoruz\n",
    "train_x = train_x.toarray()\n",
    "train_y = y_train"
   ]
  },
  {
   "cell_type": "code",
   "execution_count": 523,
   "id": "bcddaafb",
   "metadata": {},
   "outputs": [
    {
     "data": {
      "text/plain": [
       "((22500, 8500), (22500,))"
      ]
     },
     "execution_count": 523,
     "metadata": {},
     "output_type": "execute_result"
    }
   ],
   "source": [
    "train_x.shape, train_y.shape"
   ]
  },
  {
   "cell_type": "code",
   "execution_count": 524,
   "id": "c550376c",
   "metadata": {},
   "outputs": [
    {
     "data": {
      "text/plain": [
       "array([1, 0, 0, ..., 1, 1, 0])"
      ]
     },
     "execution_count": 524,
     "metadata": {},
     "output_type": "execute_result"
    }
   ],
   "source": [
    "train_y"
   ]
  },
  {
   "cell_type": "markdown",
   "id": "d658fe33",
   "metadata": {},
   "source": [
    "### Random Forest Modeli oluşturuyoruz ve fit ediyoruz"
   ]
  },
  {
   "cell_type": "code",
   "execution_count": 525,
   "id": "0029a57b",
   "metadata": {},
   "outputs": [
    {
     "data": {
      "text/html": [
       "<style>#sk-container-id-17 {color: black;background-color: white;}#sk-container-id-17 pre{padding: 0;}#sk-container-id-17 div.sk-toggleable {background-color: white;}#sk-container-id-17 label.sk-toggleable__label {cursor: pointer;display: block;width: 100%;margin-bottom: 0;padding: 0.3em;box-sizing: border-box;text-align: center;}#sk-container-id-17 label.sk-toggleable__label-arrow:before {content: \"▸\";float: left;margin-right: 0.25em;color: #696969;}#sk-container-id-17 label.sk-toggleable__label-arrow:hover:before {color: black;}#sk-container-id-17 div.sk-estimator:hover label.sk-toggleable__label-arrow:before {color: black;}#sk-container-id-17 div.sk-toggleable__content {max-height: 0;max-width: 0;overflow: hidden;text-align: left;background-color: #f0f8ff;}#sk-container-id-17 div.sk-toggleable__content pre {margin: 0.2em;color: black;border-radius: 0.25em;background-color: #f0f8ff;}#sk-container-id-17 input.sk-toggleable__control:checked~div.sk-toggleable__content {max-height: 200px;max-width: 100%;overflow: auto;}#sk-container-id-17 input.sk-toggleable__control:checked~label.sk-toggleable__label-arrow:before {content: \"▾\";}#sk-container-id-17 div.sk-estimator input.sk-toggleable__control:checked~label.sk-toggleable__label {background-color: #d4ebff;}#sk-container-id-17 div.sk-label input.sk-toggleable__control:checked~label.sk-toggleable__label {background-color: #d4ebff;}#sk-container-id-17 input.sk-hidden--visually {border: 0;clip: rect(1px 1px 1px 1px);clip: rect(1px, 1px, 1px, 1px);height: 1px;margin: -1px;overflow: hidden;padding: 0;position: absolute;width: 1px;}#sk-container-id-17 div.sk-estimator {font-family: monospace;background-color: #f0f8ff;border: 1px dotted black;border-radius: 0.25em;box-sizing: border-box;margin-bottom: 0.5em;}#sk-container-id-17 div.sk-estimator:hover {background-color: #d4ebff;}#sk-container-id-17 div.sk-parallel-item::after {content: \"\";width: 100%;border-bottom: 1px solid gray;flex-grow: 1;}#sk-container-id-17 div.sk-label:hover label.sk-toggleable__label {background-color: #d4ebff;}#sk-container-id-17 div.sk-serial::before {content: \"\";position: absolute;border-left: 1px solid gray;box-sizing: border-box;top: 0;bottom: 0;left: 50%;z-index: 0;}#sk-container-id-17 div.sk-serial {display: flex;flex-direction: column;align-items: center;background-color: white;padding-right: 0.2em;padding-left: 0.2em;position: relative;}#sk-container-id-17 div.sk-item {position: relative;z-index: 1;}#sk-container-id-17 div.sk-parallel {display: flex;align-items: stretch;justify-content: center;background-color: white;position: relative;}#sk-container-id-17 div.sk-item::before, #sk-container-id-17 div.sk-parallel-item::before {content: \"\";position: absolute;border-left: 1px solid gray;box-sizing: border-box;top: 0;bottom: 0;left: 50%;z-index: -1;}#sk-container-id-17 div.sk-parallel-item {display: flex;flex-direction: column;z-index: 1;position: relative;background-color: white;}#sk-container-id-17 div.sk-parallel-item:first-child::after {align-self: flex-end;width: 50%;}#sk-container-id-17 div.sk-parallel-item:last-child::after {align-self: flex-start;width: 50%;}#sk-container-id-17 div.sk-parallel-item:only-child::after {width: 0;}#sk-container-id-17 div.sk-dashed-wrapped {border: 1px dashed gray;margin: 0 0.4em 0.5em 0.4em;box-sizing: border-box;padding-bottom: 0.4em;background-color: white;}#sk-container-id-17 div.sk-label label {font-family: monospace;font-weight: bold;display: inline-block;line-height: 1.2em;}#sk-container-id-17 div.sk-label-container {text-align: center;}#sk-container-id-17 div.sk-container {/* jupyter's `normalize.less` sets `[hidden] { display: none; }` but bootstrap.min.css set `[hidden] { display: none !important; }` so we also need the `!important` here to be able to override the default hidden behavior on the sphinx rendered scikit-learn.org. See: https://github.com/scikit-learn/scikit-learn/issues/21755 */display: inline-block !important;position: relative;}#sk-container-id-17 div.sk-text-repr-fallback {display: none;}</style><div id=\"sk-container-id-17\" class=\"sk-top-container\"><div class=\"sk-text-repr-fallback\"><pre>RandomForestClassifier(n_estimators=460, random_state=55)</pre><b>In a Jupyter environment, please rerun this cell to show the HTML representation or trust the notebook. <br />On GitHub, the HTML representation is unable to render, please try loading this page with nbviewer.org.</b></div><div class=\"sk-container\" hidden><div class=\"sk-item\"><div class=\"sk-estimator sk-toggleable\"><input class=\"sk-toggleable__control sk-hidden--visually\" id=\"sk-estimator-id-17\" type=\"checkbox\" checked><label for=\"sk-estimator-id-17\" class=\"sk-toggleable__label sk-toggleable__label-arrow\">RandomForestClassifier</label><div class=\"sk-toggleable__content\"><pre>RandomForestClassifier(n_estimators=460, random_state=55)</pre></div></div></div></div></div>"
      ],
      "text/plain": [
       "RandomForestClassifier(n_estimators=460, random_state=55)"
      ]
     },
     "execution_count": 525,
     "metadata": {},
     "output_type": "execute_result"
    }
   ],
   "source": [
    "model = RandomForestClassifier(n_estimators = 460, random_state=55)\n",
    "model.fit(train_x, train_y)\n"
   ]
  },
  {
   "cell_type": "markdown",
   "id": "b440b1a5",
   "metadata": {},
   "source": [
    "### Test data kısmı için"
   ]
  },
  {
   "cell_type": "code",
   "execution_count": 526,
   "id": "5433e2ca",
   "metadata": {},
   "outputs": [],
   "source": [
    "# Test verilerimizi feature vektöre matrisine çeviriyoruz\n",
    "# Yani aynı işlemleri(bag of wordse dönüştürme) tekrarlıyoruz bu sefer test datamız için:\n",
    "test_xx = vectorizer.transform(test_x)\n"
   ]
  },
  {
   "cell_type": "code",
   "execution_count": 527,
   "id": "d7bbfd5f",
   "metadata": {},
   "outputs": [
    {
     "data": {
      "text/plain": [
       "<2500x8500 sparse matrix of type '<class 'numpy.int64'>'\n",
       "\twith 211253 stored elements in Compressed Sparse Row format>"
      ]
     },
     "execution_count": 527,
     "metadata": {},
     "output_type": "execute_result"
    }
   ],
   "source": [
    "test_xx"
   ]
  },
  {
   "cell_type": "code",
   "execution_count": 528,
   "id": "b1959911",
   "metadata": {},
   "outputs": [],
   "source": [
    "test_xx = test_xx.toarray()"
   ]
  },
  {
   "cell_type": "code",
   "execution_count": 529,
   "id": "a7cf4853",
   "metadata": {},
   "outputs": [
    {
     "data": {
      "text/plain": [
       "(2500, 8500)"
      ]
     },
     "execution_count": 529,
     "metadata": {},
     "output_type": "execute_result"
    }
   ],
   "source": [
    "test_xx.shape"
   ]
  },
  {
   "cell_type": "markdown",
   "id": "7ef0be3d",
   "metadata": {},
   "source": [
    "#### Tahmin kısmı"
   ]
  },
  {
   "cell_type": "code",
   "execution_count": 530,
   "id": "54e913a5",
   "metadata": {},
   "outputs": [],
   "source": [
    "testOfPrediction = model.predict(test_xx)\n",
    "accuracy = roc_auc_score(y_test, testOfPrediction)"
   ]
  },
  {
   "cell_type": "code",
   "execution_count": 531,
   "id": "82bbd16b",
   "metadata": {},
   "outputs": [
    {
     "name": "stdout",
     "output_type": "stream",
     "text": [
      "Auccuracy rate : %  86.76359129829162\n"
     ]
    }
   ],
   "source": [
    "print(\"Auccuracy rate : % \", accuracy * 100)"
   ]
  },
  {
   "cell_type": "code",
   "execution_count": null,
   "id": "c0dd665d",
   "metadata": {},
   "outputs": [],
   "source": []
  },
  {
   "cell_type": "code",
   "execution_count": null,
   "id": "0733f4e8",
   "metadata": {},
   "outputs": [],
   "source": []
  },
  {
   "cell_type": "code",
   "execution_count": null,
   "id": "6a750489",
   "metadata": {},
   "outputs": [],
   "source": []
  },
  {
   "cell_type": "code",
   "execution_count": null,
   "id": "310b3c9e",
   "metadata": {},
   "outputs": [],
   "source": []
  },
  {
   "cell_type": "code",
   "execution_count": null,
   "id": "e66db775",
   "metadata": {},
   "outputs": [],
   "source": []
  },
  {
   "cell_type": "code",
   "execution_count": null,
   "id": "9f3c6d1f",
   "metadata": {},
   "outputs": [],
   "source": []
  },
  {
   "cell_type": "code",
   "execution_count": null,
   "id": "c31a2173",
   "metadata": {},
   "outputs": [],
   "source": []
  },
  {
   "cell_type": "code",
   "execution_count": null,
   "id": "a31354a7",
   "metadata": {},
   "outputs": [],
   "source": []
  },
  {
   "cell_type": "code",
   "execution_count": null,
   "id": "8023d0f2",
   "metadata": {},
   "outputs": [],
   "source": []
  },
  {
   "cell_type": "code",
   "execution_count": null,
   "id": "699d4210",
   "metadata": {},
   "outputs": [],
   "source": []
  },
  {
   "cell_type": "code",
   "execution_count": null,
   "id": "13722a06",
   "metadata": {},
   "outputs": [],
   "source": []
  },
  {
   "cell_type": "code",
   "execution_count": null,
   "id": "3035d62c",
   "metadata": {},
   "outputs": [],
   "source": []
  },
  {
   "cell_type": "code",
   "execution_count": null,
   "id": "4e6c02ff",
   "metadata": {},
   "outputs": [],
   "source": []
  },
  {
   "cell_type": "code",
   "execution_count": null,
   "id": "d92cc7c7",
   "metadata": {},
   "outputs": [],
   "source": []
  },
  {
   "cell_type": "code",
   "execution_count": null,
   "id": "a362f38d",
   "metadata": {},
   "outputs": [],
   "source": []
  },
  {
   "cell_type": "code",
   "execution_count": null,
   "id": "62913061",
   "metadata": {},
   "outputs": [],
   "source": []
  },
  {
   "cell_type": "code",
   "execution_count": null,
   "id": "9f2de634",
   "metadata": {},
   "outputs": [],
   "source": []
  },
  {
   "cell_type": "code",
   "execution_count": null,
   "id": "becb8202",
   "metadata": {},
   "outputs": [],
   "source": []
  },
  {
   "cell_type": "code",
   "execution_count": null,
   "id": "37391e33",
   "metadata": {},
   "outputs": [],
   "source": []
  },
  {
   "cell_type": "code",
   "execution_count": null,
   "id": "e3fe125b",
   "metadata": {},
   "outputs": [],
   "source": []
  }
 ],
 "metadata": {
  "kernelspec": {
   "display_name": "Python 3.8.9 64-bit",
   "language": "python",
   "name": "python3"
  },
  "language_info": {
   "codemirror_mode": {
    "name": "ipython",
    "version": 3
   },
   "file_extension": ".py",
   "mimetype": "text/x-python",
   "name": "python",
   "nbconvert_exporter": "python",
   "pygments_lexer": "ipython3",
   "version": "3.8.9"
  },
  "vscode": {
   "interpreter": {
    "hash": "31f2aee4e71d21fbe5cf8b01ff0e069b9275f58929596ceb00d14d90e3e16cd6"
   }
  }
 },
 "nbformat": 4,
 "nbformat_minor": 5
}
